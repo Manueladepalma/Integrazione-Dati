{
  "nbformat": 4,
  "nbformat_minor": 0,
  "metadata": {
    "colab": {
      "provenance": []
    },
    "kernelspec": {
      "name": "python3",
      "display_name": "Python 3"
    },
    "language_info": {
      "name": "python"
    }
  },
  "cells": [
    {
      "cell_type": "code",
      "source": [
        "# Importazione librerie necessarie\n",
        "import pandas as pd\n",
        "\n",
        "# Simulazione di un dataset esterno di flussi turistici\n",
        "flussi_turistici = {\n",
        "    \"Regione\": [\"Lazio\", \"Toscana\", \"Campania\", \"Lombardia\", \"Piemonte\"],\n",
        "    \"Turisti_totali\": [5000000, 4500000, 3200000, 6000000, 3000000],\n",
        "    \"Percentuale_accessibili\": [10, 12, 8, 15, 9]\n",
        "}\n",
        "\n",
        "# Creazione del DataFrame\n",
        "df_turisti = pd.DataFrame(flussi_turistici)\n",
        "\n",
        "# Simulazione del dataset pulito\n",
        "data = {\n",
        "    \"Nome\": [\"Hotel Inclusivo Roma\", \"B&B Accessibile Firenze\", \"Agriturismo Senza Barriere Napoli\",\n",
        "             \"Hotel Accessibile Milano\", \"B&B Accogliente Torino\"],\n",
        "    \"Posizione\": [\"Lazio, Roma\", \"Toscana, Firenze\", \"Campania, Napoli\", \"Lombardia, Milano\", \"Piemonte, Torino\"],\n",
        "    \"Servizi\": [\"Rampe, Ascensore, Bagni accessibili\", \"Ascensore, Guide tattili\",\n",
        "                \"Rampe, Servizi per ipovedenti\", \"Ascensore, Bagni accessibili\", \"Rampe, Guide tattili\"],\n",
        "    \"Tipo\": [\"Hotel\", \"B&B\", \"Agriturismo\", \"Hotel\", \"B&B\"],\n",
        "    \"Valutazione\": [4.5, 4.7, 4.3, 4.6, 4.4]\n",
        "}\n",
        "\n",
        "# Creazione del DataFrame pulito\n",
        "df_cleaned = pd.DataFrame(data)\n",
        "\n",
        "# Aggiunta della colonna Regione\n",
        "df_cleaned['Regione'] = df_cleaned['Posizione'].apply(lambda x: x.split(',')[0])\n",
        "\n",
        "# Aggregazione dei dati con il dataset dei flussi turistici\n",
        "df_integrato = pd.merge(df_cleaned, df_turisti, on=\"Regione\")\n",
        "\n",
        "# Calcolo del numero di turisti che richiedono accessibilità\n",
        "df_integrato[\"Turisti_accessibili\"] = (\n",
        "    df_integrato[\"Turisti_totali\"] * df_integrato[\"Percentuale_accessibili\"] / 100\n",
        ")\n",
        "\n",
        "# Salvataggio del dataset integrato\n",
        "df_integrato.to_csv(\"turismo_inclusivo_integrato.csv\", index=False)\n",
        "\n",
        "print(\"Dataset integrato con successo!\")\n",
        "print(df_integrato)\n"
      ],
      "metadata": {
        "colab": {
          "base_uri": "https://localhost:8080/"
        },
        "id": "qOkmRVm_PTeS",
        "outputId": "78de03d8-8c08-48db-e38d-f473d63c6fe3"
      },
      "execution_count": 3,
      "outputs": [
        {
          "output_type": "stream",
          "name": "stdout",
          "text": [
            "Dataset integrato con successo!\n",
            "                                Nome          Posizione  \\\n",
            "0               Hotel Inclusivo Roma        Lazio, Roma   \n",
            "1            B&B Accessibile Firenze   Toscana, Firenze   \n",
            "2  Agriturismo Senza Barriere Napoli   Campania, Napoli   \n",
            "3           Hotel Accessibile Milano  Lombardia, Milano   \n",
            "4             B&B Accogliente Torino   Piemonte, Torino   \n",
            "\n",
            "                               Servizi         Tipo  Valutazione    Regione  \\\n",
            "0  Rampe, Ascensore, Bagni accessibili        Hotel          4.5      Lazio   \n",
            "1             Ascensore, Guide tattili          B&B          4.7    Toscana   \n",
            "2        Rampe, Servizi per ipovedenti  Agriturismo          4.3   Campania   \n",
            "3         Ascensore, Bagni accessibili        Hotel          4.6  Lombardia   \n",
            "4                 Rampe, Guide tattili          B&B          4.4   Piemonte   \n",
            "\n",
            "   Turisti_totali  Percentuale_accessibili  Turisti_accessibili  \n",
            "0         5000000                       10             500000.0  \n",
            "1         4500000                       12             540000.0  \n",
            "2         3200000                        8             256000.0  \n",
            "3         6000000                       15             900000.0  \n",
            "4         3000000                        9             270000.0  \n"
          ]
        }
      ]
    }
  ]
}